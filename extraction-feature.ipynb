{
 "cells": [
  {
   "cell_type": "code",
   "execution_count": 2,
   "metadata": {},
   "outputs": [],
   "source": [
    "from gensim.models import Word2Vec\n",
    "from nltk.tokenize import word_tokenize\n",
    "import nltk"
   ]
  },
  {
   "cell_type": "code",
   "execution_count": 3,
   "metadata": {},
   "outputs": [
    {
     "name": "stderr",
     "output_type": "stream",
     "text": [
      "[nltk_data] Downloading package punkt to\n",
      "[nltk_data]     C:\\Users\\asus\\AppData\\Roaming\\nltk_data...\n",
      "[nltk_data]   Package punkt is already up-to-date!\n"
     ]
    },
    {
     "data": {
      "text/plain": [
       "True"
      ]
     },
     "execution_count": 3,
     "metadata": {},
     "output_type": "execute_result"
    }
   ],
   "source": [
    "nltk.download('punkt')"
   ]
  },
  {
   "cell_type": "code",
   "execution_count": 4,
   "metadata": {},
   "outputs": [],
   "source": [
    "text_data = [\n",
    "    'Saya suka makan bakso',\n",
    "    'Bakso enak dan lezat',\n",
    "    'Makanan favorit saya adalah nasi goreng',\n",
    "    'Nasi goreng pedas adalah makanan favorit saya',\n",
    "    'Saya suka makanan manis seperti es krim',\n",
    "]"
   ]
  },
  {
   "cell_type": "code",
   "execution_count": null,
   "metadata": {},
   "outputs": [
    {
     "data": {
      "text/plain": [
       "[['saya', 'suka', 'makan', 'bakso'],\n",
       " ['bakso', 'enak', 'dan', 'lezat'],\n",
       " ['makanan', 'favorit', 'saya', 'adalah', 'nasi', 'goreng'],\n",
       " ['nasi', 'goreng', 'pedas', 'adalah', 'makanan', 'favorit', 'saya'],\n",
       " ['saya', 'suka', 'makanan', 'manis', 'seperti', 'es', 'krim']]"
      ]
     },
     "execution_count": 6,
     "metadata": {},
     "output_type": "execute_result"
    }
   ],
   "source": [
    "# Word Embedding\n",
    "tokenized_data = [word_tokenize(sentence.lower()) for sentence in text_data]\n",
    "tokenized_data"
   ]
  },
  {
   "cell_type": "code",
   "execution_count": 7,
   "metadata": {},
   "outputs": [
    {
     "data": {
      "text/plain": [
       "<gensim.models.word2vec.Word2Vec at 0x1f18be8aa30>"
      ]
     },
     "execution_count": 7,
     "metadata": {},
     "output_type": "execute_result"
    }
   ],
   "source": [
    "model = Word2Vec(sentences=tokenized_data, vector_size=100, window=5, min_count=1, workers=4)\n",
    "model"
   ]
  },
  {
   "cell_type": "code",
   "execution_count": 8,
   "metadata": {},
   "outputs": [
    {
     "name": "stdout",
     "output_type": "stream",
     "text": [
      "Kata-kata yang mirip dengan 'bakso': [('manis', 0.2529163062572479), ('nasi', 0.17018672823905945), ('enak', 0.15006466209888458)]\n",
      "Vektor untuk 'bakso': [-0.00713882  0.00124156 -0.00717766 -0.00224369  0.00371885  0.00583258\n",
      "  0.00119832  0.00210183 -0.00411138  0.00722588 -0.00630644  0.00464789\n",
      " -0.00821918  0.00203677 -0.00497649 -0.00424685 -0.00310906  0.00565491\n",
      "  0.00579776 -0.00497439  0.00077378 -0.0084959   0.00780977  0.00925648\n",
      " -0.00274235  0.0007995   0.00074748  0.00547704 -0.00860589  0.00058358\n",
      "  0.00687019  0.00223141  0.00112457 -0.00932216  0.00848288 -0.0062632\n",
      " -0.00299165  0.00349458 -0.00077282  0.00141124  0.00178217 -0.00682961\n",
      " -0.00972456  0.00904072  0.00619895 -0.00691193  0.00340259  0.00020664\n",
      "  0.00475438 -0.00712046  0.00402629  0.00434812  0.00995727 -0.00447314\n",
      " -0.00138943 -0.00731689 -0.00969748 -0.00908048 -0.00102362 -0.00650396\n",
      "  0.0048507  -0.00616346  0.0025184   0.00073924 -0.00339173 -0.00097928\n",
      "  0.00997817  0.009146   -0.00446089  0.00908287 -0.00564239  0.00593029\n",
      " -0.00309763  0.00343232  0.00301726  0.00690047 -0.00237434  0.00877584\n",
      "  0.00759023 -0.00954767 -0.00800735 -0.00763848  0.0029233  -0.00279572\n",
      " -0.00692899 -0.00812822  0.0083084   0.0019909  -0.00932751 -0.00479288\n",
      "  0.00313647 -0.00471295  0.0052802  -0.00423267  0.00264146 -0.00804574\n",
      "  0.00620901  0.00481829  0.00078651  0.00301266]\n"
     ]
    }
   ],
   "source": [
    "word_vectors = model.wv\n",
    " \n",
    "similar_words = word_vectors.most_similar('bakso', topn=3)\n",
    "print(\"Kata-kata yang mirip dengan 'bakso':\", similar_words)\n",
    " \n",
    "vector = word_vectors['bakso']\n",
    "print(\"Vektor untuk 'bakso':\", vector)"
   ]
  },
  {
   "cell_type": "code",
   "execution_count": 9,
   "metadata": {},
   "outputs": [],
   "source": [
    "from sklearn.feature_extraction.text import TfidfVectorizer"
   ]
  },
  {
   "cell_type": "code",
   "execution_count": 10,
   "metadata": {},
   "outputs": [],
   "source": [
    "documents = [\n",
    "    \"Saya suka makan bakso\",\n",
    "    \"Bakso enak dan lezat\",\n",
    "    \"Makanan favorit saya adalah nasi goreng\",\n",
    "    \"Nasi goreng pedas adalah makanan favorit saya\",\n",
    "    \"Saya suka makanan manis seperti es krim\",\n",
    "]"
   ]
  },
  {
   "cell_type": "code",
   "execution_count": 11,
   "metadata": {},
   "outputs": [],
   "source": [
    "tfidf_vectorizer = TfidfVectorizer()"
   ]
  },
  {
   "cell_type": "code",
   "execution_count": 12,
   "metadata": {},
   "outputs": [],
   "source": [
    "tfidf_matrix = tfidf_vectorizer.fit_transform(documents)"
   ]
  },
  {
   "cell_type": "code",
   "execution_count": 13,
   "metadata": {},
   "outputs": [
    {
     "name": "stdout",
     "output_type": "stream",
     "text": [
      "Vocabulary: {'saya': 14, 'suka': 16, 'makan': 9, 'bakso': 1, 'enak': 3, 'dan': 2, 'lezat': 8, 'makanan': 10, 'favorit': 5, 'adalah': 0, 'nasi': 12, 'goreng': 6, 'pedas': 13, 'manis': 11, 'seperti': 15, 'es': 4, 'krim': 7}\n"
     ]
    }
   ],
   "source": [
    "print(\"Vocabulary:\", tfidf_vectorizer.vocabulary_)"
   ]
  },
  {
   "cell_type": "code",
   "execution_count": 14,
   "metadata": {},
   "outputs": [
    {
     "name": "stdout",
     "output_type": "stream",
     "text": [
      "TF-IDF Matrix:\n",
      "[[0.         0.49851188 0.         0.         0.         0.\n",
      "  0.         0.         0.         0.61789262 0.         0.\n",
      "  0.         0.         0.34810993 0.         0.49851188]\n",
      " [0.         0.42224214 0.52335825 0.52335825 0.         0.\n",
      "  0.         0.         0.52335825 0.         0.         0.\n",
      "  0.         0.         0.         0.         0.        ]\n",
      " [0.43951606 0.         0.         0.         0.         0.43951606\n",
      "  0.43951606 0.         0.         0.         0.36483803 0.\n",
      "  0.43951606 0.         0.30691325 0.         0.        ]\n",
      " [0.38596041 0.         0.         0.         0.         0.38596041\n",
      "  0.38596041 0.         0.         0.         0.320382   0.\n",
      "  0.38596041 0.47838798 0.26951544 0.         0.        ]\n",
      " [0.         0.         0.         0.         0.42966246 0.\n",
      "  0.         0.42966246 0.         0.         0.28774996 0.42966246\n",
      "  0.         0.         0.24206433 0.42966246 0.34664897]]\n"
     ]
    }
   ],
   "source": [
    "print(\"TF-IDF Matrix:\")\n",
    "print(tfidf_matrix.toarray())"
   ]
  },
  {
   "cell_type": "code",
   "execution_count": null,
   "metadata": {},
   "outputs": [],
   "source": []
  }
 ],
 "metadata": {
  "kernelspec": {
   "display_name": "tf",
   "language": "python",
   "name": "python3"
  },
  "language_info": {
   "codemirror_mode": {
    "name": "ipython",
    "version": 3
   },
   "file_extension": ".py",
   "mimetype": "text/x-python",
   "name": "python",
   "nbconvert_exporter": "python",
   "pygments_lexer": "ipython3",
   "version": "3.9.21"
  }
 },
 "nbformat": 4,
 "nbformat_minor": 2
}
